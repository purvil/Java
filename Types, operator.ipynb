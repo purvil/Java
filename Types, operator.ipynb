{
 "cells": [
  {
   "cell_type": "markdown",
   "metadata": {},
   "source": [
    "# Introduction"
   ]
  },
  {
   "cell_type": "markdown",
   "metadata": {},
   "source": [
    "* Java applet is a special kind of program that can be transmitted over the Internet and can executed by Java compatible web browser.\n",
    "* Servelet is small program that executes on server.\n",
    "### ByteCode\n",
    "* It is the magic behind portability and security.\n",
    "* Output of Java compiler is not a executable code, its a byte code.Byte code is highly optimized set of instruction designed to be executed by Java virtual machine. Benefits of translating program to byte code is, it can be executed by JVM. And now we only have to implement JVM for various architectures. Once JVM is available for specific system it can run any Java program. Of course JVM is different system to system but we can run same Java program on any JVM.\n",
    "* If no JVM, then different version of program for various architecture should exist, which is not feasible.\n",
    "* As JVM executes program, we gain security. As JVM restrict executed program to create side effects.\n",
    "\n",
    "* Java is strictly typed language, so it checks code at compile time and also at run time. Java manage memory automatically. No need to manually allocate or deallocate the memory.\n",
    "\n",
    "### Java 7\n",
    "* String can use as switch case controller.\n",
    "* Underscore in numeric literal `int x = 123_456_789;` Underscore is just used to seperate the digits.\n",
    "* Binary integer literal, We can specify int as binary value Ex. `int x = 0b1010;`\n",
    "* Expanded try-catch as try-catch-resources, supports automatic resource management.  Stream can be closed automatically when no longer needed.\n",
    "* Multi-catch: 2 or more exception handled by single catch.\n",
    "\n",
    "\n",
    "### Java 8\n",
    "* Lambda expression\n",
    "* Possible to define default implementation for method specified by interface. Using it, new method can be added without breaking existing code."
   ]
  },
  {
   "cell_type": "markdown",
   "metadata": {},
   "source": [
    "* Program can developed \n",
    "    - around the code. Process oriented model. Program is series of linear steps. Here code is acting on data. Ex. C \n",
    "    - around the data. We have set of well defined interface to access that data. Data controlling access to code.\n",
    "    \n",
    "### Abstraction\n",
    "- Ignoring the complex details and utilize the object. Way  to handle abstraction is hierarchical classification. Break complex system in more manageable pieces.\n",
    "- To make program object oriented we can transform data from procedural programming to objects. Sequence of process steps become collection of message between objects. Each object defines it's own behavior."
   ]
  },
  {
   "cell_type": "markdown",
   "metadata": {},
   "source": [
    "### Encapsulation\n",
    "* Binds code and data together, keeps them safe from outside interference and misuse. It is like protective wrapper which prevents access of code and data. Only via well defined interface we can access data.\n",
    "* Basis for encapsulation  is class. Class defines structure and behavior (data and code), that will shared by multiple object. Object also referred as instance of a class. Data is called instance variable or member variable. Code is called member method or instance method. Each method and variable can be marked as private, public, protected. Private can only access by code that is member of class. Public interface defines everything that external entity should know.\n",
    "![encapsulation](images/encapsulation.jpg)\n",
    "\n",
    "\n",
    "### Inheritance\n",
    "* Process by which one object acquire properties of other object.\n",
    "* Supports hierarchical classification. Without it, each object should define all properties explicitly. Using inheritance we only have to define properties that are unique to the object.\n",
    "\n",
    "### Polymorphism\n",
    "* Using one interface for general class of action. Ex. We can write program of stack which stores int, char, float. All has method like float_push, int_push. Which is hard to remember and use. In java we can specify general set of stack method which can shared by all stack routine.\n",
    "* One interface, multiple methods.\n",
    "* Reduces complexity by allowing  to use same interface for generic class of actions. It is compiler's job to select specific action as it applies to situation."
   ]
  },
  {
   "cell_type": "markdown",
   "metadata": {},
   "source": [
    "### Naming source file\n",
    "* Source file is called compilation unit in Java. It can have one or more class definitions. It has `.java` extension.\n",
    "* Name of source file and class which is in the source file, must have to be same. Name of main class should be same as name of file which contains it.\n",
    "* Compiling the program will generate file with extension `.class` which is bytecode."
   ]
  },
  {
   "cell_type": "markdown",
   "metadata": {},
   "source": [
    "### Comment\n"
   ]
  },
  {
   "cell_type": "code",
   "execution_count": 2,
   "metadata": {},
   "outputs": [],
   "source": [
    "/* \n",
    "I am multiline comment\n",
    "This is second line \n",
    "*/"
   ]
  },
  {
   "cell_type": "code",
   "execution_count": 2,
   "metadata": {},
   "outputs": [],
   "source": [
    "// I am single line commment"
   ]
  },
  {
   "cell_type": "markdown",
   "metadata": {},
   "source": [
    "```\n",
    "public static void main(String args[])\n",
    "```"
   ]
  },
  {
   "cell_type": "markdown",
   "metadata": {},
   "source": [
    "* `static` allows main to be called without having to instantiate a particular instance of class. As main is called by JVM before any instance is made."
   ]
  },
  {
   "cell_type": "markdown",
   "metadata": {},
   "source": [
    "* Variable is named location in memory where value can be assigned by program. To declare variable,\n",
    "```\n",
    "type var_name;\n",
    "```\n",
    "* For example,\n",
    "```\n",
    "int num;\n",
    "num = 10;\n",
    "```"
   ]
  },
  {
   "cell_type": "markdown",
   "metadata": {},
   "source": [
    "```\n",
    "System.out.println(\"Value of num is \" + num);\n",
    "```\n",
    "* `+` will append value of num to string, first value of num will be converted to string and then concatenated to other string."
   ]
  },
  {
   "cell_type": "markdown",
   "metadata": {},
   "source": [
    "* Java is strongly typed language meaning every variable, expression has a type,, every type is striclty defined. All argument and assignment is strictly check for type compatibility. NO automatic conversion or coercion."
   ]
  },
  {
   "cell_type": "markdown",
   "metadata": {},
   "source": [
    "### Primitive type (Simple type)\n",
    "* byte, short, int, long, char, float, double, boolean.\n",
    "* It represents single value. Primitive type is NOT object. Reason for this is efficiency.\n",
    "* For portability int is always 32 bit in Java. Not like platform dependent bit range as in other language.\n",
    "* Java does NOT support unsigned data type.\n",
    "\n",
    "![primitive_type](images/primitive_type.png)\n",
    "* `byte` is useful when we are working on stream of data from network or file or raw binary data."
   ]
  },
  {
   "cell_type": "markdown",
   "metadata": {},
   "source": [
    "```\n",
    "byte a;\n",
    "short b;\n",
    "int c;\n",
    "long d;\n",
    "```"
   ]
  },
  {
   "cell_type": "markdown",
   "metadata": {},
   "source": [
    "* char is Java comprises all unicode characters so its size is 16-bit. Range is 0 to 65,536\n",
    "```\n",
    "char ch1 = 88 // ASCII value corresponds to letter X.\n",
    "char ch2 = 'Y'\n",
    "```\n",
    "* We can fo all arithmetic operation on character.\n",
    "* `boolean` can have only two values `true` or `false`\n",
    "* In Java boolean true is NOT equal to 1 or false is not equal to 0."
   ]
  },
  {
   "cell_type": "markdown",
   "metadata": {},
   "source": [
    "* Octal integer literal in Java can be shown with leading 0. Normal decimal value can not have leading 0.\n",
    "* Hex value can be shown as 0x or 0X as leading characters.\n",
    "* To show literals with binary use 0b or 0B.\n",
    "\n",
    "```\n",
    "int x = 0b1010;\n",
    "```\n"
   ]
  },
  {
   "cell_type": "markdown",
   "metadata": {},
   "source": [
    "* Floating point literals can be shown using, \n",
    "```\n",
    "float a = 2.32;\n",
    "float b = 3.022E23; // E23 means 3.022 will multiply by 10^23.\n",
    "```"
   ]
  },
  {
   "cell_type": "markdown",
   "metadata": {},
   "source": [
    "* There is NO multiline Java string. Strings are actually object in Java.\n",
    "* When we declare a variable within a scope, we are localizing that variable and protecting from unauthorized access. Indeed scope rules provides foundation for encapsulation.\n",
    "* You can not declare same variable name as in the outer block."
   ]
  },
  {
   "cell_type": "markdown",
   "metadata": {},
   "source": [
    "### Type conversion and casting\n",
    "* If two types are compatible Java will apply conversion automatically. Ex. assigning `int` to `double`. But NO automatic conversion to incompatible types, for such case we must use cast.\n",
    "\n",
    "```\n",
    "(target-type) value\n",
    "\n",
    "int a;\n",
    "byte b;\n",
    "b = (byte) a\n",
    "```\n",
    "* If the integer's value is larger than the range of a `byte` it will be reduced modulo (remainder of an integer division by the byte's range)\n",
    "* When floating value is assigned to integer the fraction value is lost."
   ]
  },
  {
   "cell_type": "markdown",
   "metadata": {},
   "source": [
    "## Operator"
   ]
  },
  {
   "cell_type": "markdown",
   "metadata": {},
   "source": [
    "### Arithmetic operator\n",
    "* `+`, `-`, `*`, `/`, `%`, `++`, `+=`, `-=`, `--`, `*=`, `/=`, `%=` \n",
    "\n",
    "### Bitwise operator\n",
    "* `~`, `&`, `|`, `^`, `>>`, `<<`, `>>>`(Shift right 0 fill)"
   ]
  },
  {
   "cell_type": "markdown",
   "metadata": {},
   "source": [
    "* All integer are signed integer. Java uses 2's complement to represent negative value. It is represented by inverting all bits in a value, then adding 1 to the result.\n",
    "* `-42` is represented by inverting all bits of `42`, then adding 1.\n",
    "    - 42 : 00101010, inverting all bits become 11010101, then add 1 11010110.\n",
    "* In left shift, high order bits are shifted out and 0 is brought in on the right. It doubles the original value.\n",
    "* In right shift, top bits are filled with previous content of top bit. This is called sign extension.\n",
    "* To shift 0s in high order bits, we can use unsigned right shift `>>>`, which always shifts 0s in high order bit."
   ]
  },
  {
   "cell_type": "markdown",
   "metadata": {},
   "source": [
    "### Relational operators\n",
    "* `==`, `!=`, `>`, `<`, `>=`, `<=`"
   ]
  },
  {
   "cell_type": "markdown",
   "metadata": {},
   "source": [
    "### Boolean logical operator\n",
    "* `&`, `|`, `^` \n",
    "* Short circuit `||`, `&&`\n",
    "* `!`, `!=`, `==`\n",
    "* `?:`\n",
    "    - `exp1 ? exp2:exp3`"
   ]
  },
  {
   "cell_type": "markdown",
   "metadata": {},
   "source": [
    "### Command line arguments\n",
    "* We can pass command line arguments to `main()`.\n",
    "* It gets stored in parameter of main() method.\n",
    "\n",
    "```\n",
    "public static void main(String[] args) {\n",
    "\tfor (int i = 0; i < args.length; i++) {\n",
    "\t\tSystem.out.println(args[i]);\n",
    "\t}\n",
    "}\n",
    "```\n",
    "* All command line arguments are of type String."
   ]
  }
 ],
 "metadata": {
  "kernelspec": {
   "display_name": "Scala 2.11.11",
   "language": "scala",
   "name": "scala"
  },
  "language_info": {
   "codemirror_mode": "text/x-scala",
   "file_extension": ".scala",
   "mimetype": "text/x-scala",
   "name": "scala211",
   "nbconvert_exporter": "script",
   "pygments_lexer": "scala",
   "version": "2.11.11"
  }
 },
 "nbformat": 4,
 "nbformat_minor": 2
}
