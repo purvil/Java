{
 "cells": [
  {
   "cell_type": "markdown",
   "metadata": {},
   "source": [
    "# Loop and conditional"
   ]
  },
  {
   "cell_type": "markdown",
   "metadata": {},
   "source": [
    "### `if`"
   ]
  },
  {
   "cell_type": "markdown",
   "metadata": {},
   "source": [
    "```\n",
    "if (condition1) {\n",
    "    statement1;\n",
    "} else if (condition2) {\n",
    "    statement2;\n",
    "} else {\n",
    "    statement3;\n",
    "}\n",
    "```\n"
   ]
  },
  {
   "cell_type": "markdown",
   "metadata": {},
   "source": [
    "### `switch`\n",
    "```\n",
    "switch(expression) { // expression can be byte, short, int, char, enumeration, String\n",
    "    case val1:\n",
    "        // statement\n",
    "        break;\n",
    "    case val2:\n",
    "        // statement\n",
    "        break;\n",
    "    case valN:\n",
    "        //statement\n",
    "        break;\n",
    "    default:\n",
    "        // statement\n",
    "}\n",
    "```\n",
    "* Value specified by case must be constant and unique.\n",
    "#### switch vs if..else\n",
    "* `switch` only test equality, if can test any conditional expression.\n",
    "* switch is more efficient then set of nested ifs because when Java compiler encounters switch, it creates the jump table that it will use for selecting the path of execution depending on the value of an expression."
   ]
  },
  {
   "cell_type": "markdown",
   "metadata": {},
   "source": [
    "### `while`\n",
    "```\n",
    "while(condition) {\n",
    "    // body\n",
    "}\n",
    "```\n",
    "### `do...while`\n",
    "\n",
    "* Always executes body at least once. \n",
    "\n",
    "```\n",
    "do {\n",
    "    // body\n",
    "} while(condition);\n",
    "```\n",
    "\n",
    "### `for`\n",
    "```\n",
    "for(initializer; condition; iteration) {\n",
    "    // body\n",
    "}\n",
    "```\n",
    "\n",
    "### `for-each`\n",
    "* cycles through collection of objects.\n",
    "\n",
    "```\n",
    "for (type itr_var: Collection) // type of itr_var. it_var receives the elements from collection\n",
    "    // statement\n",
    "\n",
    "int[] arr = {1,2,3,4,5,6,7,8,9,10};\n",
    "int sum = 0;\n",
    "for (int el: arr) \n",
    "\tsum += el;\n",
    "\n",
    "\n",
    "int[][] nums = new int[3][5];\n",
    "\t\t\n",
    "for (int i = 0; i < 3;  i++)\n",
    "\tfor (int j = 0; j < 5; j++)\n",
    "\t\tnums[i][j] = (i + 1) * (j + 1);\n",
    "\t\t\n",
    "for (int x[]: nums)\n",
    "\tfor (int el: x)\n",
    "\t\tSystem.out.println(el);\n",
    "```"
   ]
  },
  {
   "cell_type": "markdown",
   "metadata": {},
   "source": [
    "### `break`, `continue`, `return`\n",
    "#### break as goto\n",
    "```\n",
    "break label;\n",
    "```\n",
    "* label is name of label that identifies a block of code. When break executes, control is transfered out to that block. The label block must enclose the break statement. Using such break we can not pass control to out of the block which is not enclosing that break.\n",
    "* Execution will resume at the end of the block.\n",
    "\n",
    "```\n",
    "boolean t = true;\n",
    "first: {\n",
    "\tsecond: {\n",
    "\t\tthird: {\n",
    "\t\t\t\tSystem.out.println(\"Before break\");\n",
    "\t\t\t\tif(t) break second;\n",
    "\t\t\t\tSystem.out.println(\"This is useless\");\n",
    "        }\n",
    "\t\tSystem.out.println(\"Useless too\");\n",
    "\t}\n",
    "\tSystem.out.println(\"After break\");\n",
    "}\n",
    "```\n",
    "\n",
    "```\n",
    "outer: for(int i = 0; i < 10; i++) {\n",
    "    System.out.println(\"i\" + i);\n",
    "\tfor (int j = 0; j < 10; j++) {\n",
    "\t\tSystem.out.println(\"j\" + j);\n",
    "            if (j == 5) break outer;\n",
    "\t\t}\n",
    "\t}\n",
    "```\n",
    "\n",
    "#### Continue as goto\n",
    "```\n",
    "outer: for(int i = 0; i < 10; i++) {\n",
    "\tfor (int j = 0; j < 10; j++) {\n",
    "\t\tif (j > i) {\n",
    "\t\t\tSystem.out.println();\n",
    "\t\t\tcontinue outer; // continue with the next iteration of labeled block.\n",
    "         }\n",
    "\t\tSystem.out.print(\" \" + (i * j));\n",
    "\t}\n",
    "}\n",
    "```"
   ]
  }
 ],
 "metadata": {
  "kernelspec": {
   "display_name": "Python 3",
   "language": "python",
   "name": "python3"
  },
  "language_info": {
   "codemirror_mode": {
    "name": "ipython",
    "version": 3
   },
   "file_extension": ".py",
   "mimetype": "text/x-python",
   "name": "python",
   "nbconvert_exporter": "python",
   "pygments_lexer": "ipython3",
   "version": "3.7.1"
  }
 },
 "nbformat": 4,
 "nbformat_minor": 2
}
