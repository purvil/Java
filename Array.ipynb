{
 "cells": [
  {
   "cell_type": "markdown",
   "metadata": {},
   "source": [
    "* Group of like-typed variables that are referred to by common name.\n",
    "* We have to allocate memory using `new`.\n",
    "\n",
    "```\n",
    "type var_name[];\n",
    "var_name = new type[size]\n",
    "\n",
    "int month_days[];\n",
    "month_days = new int[12];\n",
    "```\n",
    "* For numeric type array will initialize to `0`. For boolean to `false`, for other reference type `null`.\n",
    "\n",
    "```\n",
    "month_days[1] = 28;\n",
    "\n",
    "int month_days2[] = {31, 28, 31, 30, 31, 30, 31, 31, 30, 31, 30, 31};\n",
    "\n",
    "int twoD[][] = new int[4][5];\n",
    "```"
   ]
  },
  {
   "cell_type": "markdown",
   "metadata": {},
   "source": [
    "* Other way to declare an array\n",
    "```\n",
    "type[] var_name;\n",
    "int a1[] = new int[3];\n",
    "// is same as\n",
    "int[] a2 = new int[3];\n",
    "```"
   ]
  },
  {
   "cell_type": "markdown",
   "metadata": {},
   "source": [
    "### length\n",
    "* to find length of array we can use,\n",
    "\n",
    "```\n",
    "int a1[] = {1,2,3,4,5}\n",
    "a1.length // it will return 5\n",
    "```\n",
    "* It is number of elements that array can hold."
   ]
  },
  {
   "cell_type": "code",
   "execution_count": null,
   "metadata": {},
   "outputs": [],
   "source": []
  }
 ],
 "metadata": {
  "kernelspec": {
   "display_name": "Python 3",
   "language": "python",
   "name": "python3"
  },
  "language_info": {
   "codemirror_mode": {
    "name": "ipython",
    "version": 3
   },
   "file_extension": ".py",
   "mimetype": "text/x-python",
   "name": "python",
   "nbconvert_exporter": "python",
   "pygments_lexer": "ipython3",
   "version": "3.6.5"
  }
 },
 "nbformat": 4,
 "nbformat_minor": 2
}
