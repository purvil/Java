{
 "cells": [
  {
   "cell_type": "markdown",
   "metadata": {},
   "source": [
    "### Client Server Programming\n",
    "![](images/client_server.PNG)"
   ]
  },
  {
   "cell_type": "markdown",
   "metadata": {},
   "source": [
    "* Java program run in JVM, Client A want to communicate with Client B, that can be done via socket.\n",
    "* A socket is one end-point of a two-way communication link between two programs running on the network. Socket classes are used to represent the connection between a client program and a server program. The java.net package provides two classes--Socket and ServerSocket--that implement the client side of the connection and the server side of the connection, respectively.\n",
    "* Server will implement socket as\n",
    "\n",
    "```\n",
    "bSocket = new ServerSocket(port); // create socket and bind port\n",
    "// Not it will start listening for incoming message\n",
    "\n",
    "a = bSocket.accept();\n",
    "\n",
    "a.getInputStream()\n",
    "a.getOutputStream()\n",
    "```"
   ]
  },
  {
   "cell_type": "markdown",
   "metadata": {},
   "source": [
    "* Same client will implement\n",
    "\n",
    "```\n",
    "aSocket = new Socket();\n",
    "\n",
    "aSocket.getInputStream();\n",
    "aSocket.getOutputStream();\n",
    "```"
   ]
  },
  {
   "cell_type": "markdown",
   "metadata": {},
   "source": [
    "### Serialization / Deserialization\n",
    "* Input and output streams are transfered as a bytes.\n",
    "* Actually we need to transfer objects from one machine to another. We convert object to bytes is called serialization and reverse is called deserialization.\n",
    "* Custom approach:\n",
    "    - Convert simple object to string, bytes manually\n",
    "* Use XML:\n",
    "    - Convert java object to XML\n",
    "* Java serialization/deserialization\n",
    "\n",
    "```\n",
    "class x implements Serializable\n",
    "```\n",
    "    - If x is also contains other object y, class y also has to implement serializable.\n",
    "    - If multiple field include object y, then serializable will make sure that only 1 time that object is included.\n",
    "    - To omit large collection we can declare field as `TRANSIENT` which will not copy it during serialization.\n",
    "* Interface definition language\n",
    "    - Protocol buffer.\n",
    "    - Can communicate between different process of different language.\n",
    "    "
   ]
  },
  {
   "cell_type": "markdown",
   "metadata": {},
   "source": [
    "### Remote method invocation (RMI)\n",
    "* We want to invoke method foo on remote object X.\n",
    "* We have RMI client and RMI server on other process.\n",
    "* Stub object (local proxy). RMI client connect with stub object on its own JVM. That is representative of remote object X.\n",
    "* On server side we have Skeleton object.\n",
    "* Called object X and return value y must be serializable.\n",
    "* RMI registry, maps object X to some name, so other process can refer x by that name.\n",
    "\n",
    "### Multicast Socket\n",
    "* Single source send message to multiple destination.\n",
    "* Useful in news feed, online games\n",
    "\n",
    "```\n",
    "s = new MultiCast socket(sort)\n",
    "s.joinGroup(G)\n",
    "msg = new DataGramPacket()\n",
    "s.send(msg)\n",
    "msg2 = new DataGramPacket()\n",
    "s.receive(msg2)\n",
    "s.leaveGroup(G)\n",
    "```\n",
    "\n",
    "* All member of same group can receive message."
   ]
  },
  {
   "cell_type": "markdown",
   "metadata": {},
   "source": [
    "### Publish Subscribe model\n",
    "* Producer, produces info, Consumers consumes that.\n",
    "* Producer send message specific to Topic. Producer add message to topic. Consumers subscribe to topic to get message from topic.\n",
    "\n",
    "```\n",
    "// Producer\n",
    "p = new KafkaProducer();\n",
    "p.send(new ProducerRecord(topic, key, val))\n",
    "p.close()\n",
    "\n",
    "\n",
    "// Consumer\n",
    "c = new KafkaConsumer();\n",
    "c.subscribe(topic);\n",
    "records = c.poll(timeout)\n",
    "for (R:records):\n",
    "    R.offset, R.key, R.val\n",
    "```"
   ]
  },
  {
   "cell_type": "markdown",
   "metadata": {},
   "source": [
    "### Single Program Multiple Data (SPMD) model\n",
    "* Distributed Parallelism\n",
    "* We have lots of node, we want to use entire cluster to process data.\n",
    "* Each node has part of the global data.\n",
    "* All node run the same program.\n",
    "\n",
    "### Processes and Thread\n",
    "* Having multiple thread in process,\n",
    "    - Memory/resource sharing (share local memory)\n",
    "    - Responsiveness (Think if only 1 thread and it is blocked in some task)\n",
    "    - Performance (executes on multiple thread)\n",
    "* Having multiple process in node\n",
    "    - Responsiveness (JVM delay may cause entire process to halt so if we have only 1 process it is bad)\n",
    "    - Scalability (Increase throughput)\n",
    "    - Availability (Resilience)\n",
    "\n",
    "### Multithreaded servers\n",
    "![](images/multithread_server.PNG)\n"
   ]
  },
  {
   "cell_type": "markdown",
   "metadata": {},
   "source": [
    "* To avoid overhead of thread, we can use thread pool and use previously created thread."
   ]
  },
  {
   "cell_type": "markdown",
   "metadata": {},
   "source": [
    "* If we dont have thread then second file request has to wait until previous request is handled completely"
   ]
  },
  {
   "cell_type": "markdown",
   "metadata": {},
   "source": [
    "* a thread pool maintains multiple threads waiting for tasks to be allocated for concurrent execution by the supervising program. By maintaining a pool of threads, the model increases performance and avoids latency in execution due to frequent creation and destruction of threads for short-lived tasks"
   ]
  }
 ],
 "metadata": {
  "kernelspec": {
   "display_name": "Python 3",
   "language": "python",
   "name": "python3"
  },
  "language_info": {
   "codemirror_mode": {
    "name": "ipython",
    "version": 3
   },
   "file_extension": ".py",
   "mimetype": "text/x-python",
   "name": "python",
   "nbconvert_exporter": "python",
   "pygments_lexer": "ipython3",
   "version": "3.7.1"
  }
 },
 "nbformat": 4,
 "nbformat_minor": 2
}
