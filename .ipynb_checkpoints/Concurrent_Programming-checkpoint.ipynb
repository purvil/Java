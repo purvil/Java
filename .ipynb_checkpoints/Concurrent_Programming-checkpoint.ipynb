{
 "cells": [
  {
   "cell_type": "markdown",
   "metadata": {},
   "source": [
    "* We have 2 processor, we can create unit of execution called thread, OS takes responsibility to execute it on processor in parallel.\n",
    "* First Create a thread\n",
    "```\n",
    "t1 = new THREAD(s1); s1 is computation\n",
    "```\n",
    "* Start execution\n",
    "```\n",
    "t1.start();\n",
    "s2;\n",
    "```\n",
    "* We already have main program as one of the thread called it t0, which starts thread t1.\n",
    "* Now we have in parallel t0 executing s2 and t1 executing s1.\n",
    "* At some point main thread wants to use result of s1. It has to do `t1.join()` meaning waiting for t1 to complete its execution.\n",
    "* Possible error is deadlock. Think there is a another thread t2 with instruction s2. in s2 we are doing t1.join and in s1 we are doing t2.join, both are waiting for each other !!!"
   ]
  },
  {
   "cell_type": "markdown",
   "metadata": {},
   "source": [
    "## Locks\n",
    "\n",
    "### Structured locks\n",
    "\n",
    "```\n",
    "INCR(A) {\n",
    "    A.count = A.count + 1;\n",
    "}\n",
    "```\n",
    "* 2 thread access same A object which can cause problem.\n",
    "* We have to lock it so when it is in use, other thread can not use it.\n",
    "\n",
    "```\n",
    "INCR(A {\n",
    "    SYNCHRONIZED(A){ // acquire \n",
    "        A.count = A.count + 1\n",
    "    } // release A\n",
    "}\n",
    "```\n",
    "* If exception occur in structured block/ synchronize block the run time will ensure that there lock get released.\n",
    "* We have a buffer, in which we can insert items, we can remove items. What if insert and delete executed by multiple thread. We need synchronize block.\n",
    "* What is buffer is full, and thread A want to add element, we can implement wait until buffer is full. Same if buffer is empty and we want to remove element, we can implement wait if X is empty.\n",
    "* But if thread is waiting how can it release the lock? We can implement `notify`.\n",
    "\n",
    "```\n",
    "```\n",
    "\n",
    "### Unstructured Locks\n",
    "* In structured locks, it is nested. In Unstructured lock we have to do explicit call to lock and unlock. \n",
    "* We have a linked list with node N1, N2, N3, N4 and at a given time thread work with 2 neighboring nodes.\n",
    "* Here there is a lock for each node object.\n",
    "\n",
    "```\n",
    "Lock(L1)\n",
    "Lock(L2)\n",
    "work with N1 N2\n",
    "Unlock(L1)\n",
    "Lock(L3)\n",
    "Work with N2 N3\n",
    "Unlock(L2)\n",
    "```\n",
    "* Even we have TRY LOCK, it return success or failure, if lock is not available thread can do other stuff. While is structured block, thread will wait at entry point until lock is available,\n",
    "* Read-Write lock\n",
    "    - Multiple thread is allowed to acquire read lock, only one thread can have write lock. Ex, Array has search and update methods, we can use read locks with search method"
   ]
  },
  {
   "cell_type": "markdown",
   "metadata": {},
   "source": [
    "### Liveness\n",
    "* Deadlock: 2 thread join on each other. Other way is,\n",
    "\n",
    "```\n",
    "T1\n",
    "Sync(A) {\n",
    "    Sync(B) {\n",
    "    }\n",
    "}\n",
    "\n",
    "T2\n",
    "Sync(A) {\n",
    "    Sync(B) {\n",
    "    }\n",
    "}\n",
    "\n",
    "```\n",
    "\n",
    "* Here when T1 acquire A and T2 acquire B at the same time there will be a problem\n",
    "* LiveLock: Thread is not blocked but not making a progress.\n",
    "\n",
    "\n",
    "```\n",
    "T1\n",
    "Do {\n",
    "    SYNC(X)\n",
    "        X.INCR()\n",
    "        R + X.GET()\n",
    "} While (R < 2)\n",
    "\n",
    "```\n",
    "```\n",
    "T2\n",
    "\n",
    "Do {\n",
    "    SynC(X)\n",
    "        X.DECR()\n",
    "        R = X.GET()\n",
    "} WHILE (R > 2)\n",
    "```\n",
    "\n",
    "* Imagine this scenario.\n",
    "\n",
    "\\begin{array}{c|c}\n",
    "  T1 & T2 \\\\ \n",
    "  \\hline\n",
    "  x=0 &  \\\\\n",
    "  \\hline\n",
    "  x=1 &  \\\\\n",
    "    \\hline\n",
    "   & x=0 \\\\\n",
    "    \\hline\n",
    "  &  x=-1 \\\\\n",
    "    \\hline\n",
    " x=0 &  \\\\\n",
    "  \\hline\n",
    "  x=1 &  \\\\\n",
    " \\end{array}\n",
    " \n",
    "* Starvation\n",
    "    - For continuous stream of input, some thread might not get data"
   ]
  },
  {
   "cell_type": "markdown",
   "metadata": {},
   "source": [
    "### Dining Philosopher\n",
    "* 5 People, and 5 chopsticks\n",
    "* Think, pick up chopsticks, eat, put down chopsticks\n",
    "* Structured lock\n",
    "\n",
    "```\n",
    "while {\n",
    "    Think\n",
    "    SYNC(LEFT) {\n",
    "        SYNC(RIGHT) {\n",
    "            EAT\n",
    "        }\n",
    "    }\n",
    "}\n",
    "```\n",
    "\n",
    "* All will have left and waiting for right, deadlock\n",
    "* Unstructured lock\n",
    "\n",
    "```\n",
    "WHILE(...) {\n",
    "    THINK\n",
    "    flag1 = TRYLOCK(LEFT)\n",
    "    if (not flag1) continue;\n",
    "    flag2 = Trylock(RIght)\n",
    "    if (not flag2) \n",
    "        unlock(left)\n",
    "        continue\n",
    "}\n",
    "```\n",
    "* Here there is no deadlock.\n",
    "* But there is a live lock. All get left, all succeed and all try to acquire right but not available so release left. No one will able to eat.\n",
    "* One way is one of the person take right first then left. Other way is using semaphore."
   ]
  },
  {
   "cell_type": "markdown",
   "metadata": {},
   "source": [
    "### Critical Section\n",
    "![](images/critical_section.PNG)"
   ]
  },
  {
   "cell_type": "markdown",
   "metadata": {},
   "source": [
    "- Both thread can be executed in any order, suppose R2 happens then R1 then W2 then W1."
   ]
  },
  {
   "cell_type": "markdown",
   "metadata": {},
   "source": [
    "- At the end mybalance = 400, Daughter = 100 and family = 1100. Which is wrong."
   ]
  },
  {
   "cell_type": "markdown",
   "metadata": {},
   "source": [
    "* We have to make sure both block are ISOLATED meaning both block can not execute at the same time. One isolated section has to finish before, it can start other isolated section. Meaning R2, W2, R1, W1 or R1, W1, R2, W2"
   ]
  },
  {
   "cell_type": "markdown",
   "metadata": {},
   "source": [
    "### Object Basd Isolation (Monitors)\n",
    "![](images/object_based_1.PNG)"
   ]
  },
  {
   "cell_type": "markdown",
   "metadata": {},
   "source": [
    "* If all 3 threads run in parallel we will be in trouble, so we can define delete block as ISOLATED. But it will reduce performance as T1 and T3 can run in parallel as they are manipulating different objects.\n",
    "* So here we will do object based isolation. List object which will be restricted in ISOLATED section.\n",
    "* If there is a empty intersection of objects they can run in parallel, otherwise must be in mutual exclusion.\n",
    "![](images/object_based_2.PNG)"
   ]
  },
  {
   "cell_type": "markdown",
   "metadata": {},
   "source": [
    "### Concurrent Spanning Tree Algo\n",
    "![](images/spanning_tree.PNG)"
   ]
  },
  {
   "cell_type": "markdown",
   "metadata": {},
   "source": [
    "### Atomic Variable\n",
    "![](images/atomic_var.PNG)"
   ]
  },
  {
   "cell_type": "markdown",
   "metadata": {},
   "source": [
    "### Actors\n",
    "* When we implement isolated, some time we forget to put isolated around some block and cause an error. Instead we can use some higher level construct such that there is an owner of object via which we can access all the values.\n",
    "* Actors reduces programmer error by making a variable isolated by default.\n",
    "* Actor contain a mailbox, methods and local states. \n",
    "* Actor only response to messages, which are sent to invoke particular methods.\n",
    "\n",
    "\n",
    "### Producer-Consumer\n",
    "* We have producers, buffer and consumers.\n",
    "* Producer insert items in buffer, consumer remove items from buffer.\n",
    "* We can make Buffer as an actor. Producer send message insert to Actor buffer. Consumer send ready message to actor buffer, actor buffer remove element and send to Consumer.\n",
    "* If we have bounded buffer,\n",
    "    - We have producer actors, consumer actors and buffer actor.\n",
    "![](images/bounded_buffer.PNG)"
   ]
  },
  {
   "cell_type": "markdown",
   "metadata": {},
   "source": []
  }
 ],
 "metadata": {
  "kernelspec": {
   "display_name": "Python 3",
   "language": "python",
   "name": "python3"
  },
  "language_info": {
   "codemirror_mode": {
    "name": "ipython",
    "version": 3
   },
   "file_extension": ".py",
   "mimetype": "text/x-python",
   "name": "python",
   "nbconvert_exporter": "python",
   "pygments_lexer": "ipython3",
   "version": "3.7.1"
  }
 },
 "nbformat": 4,
 "nbformat_minor": 2
}
