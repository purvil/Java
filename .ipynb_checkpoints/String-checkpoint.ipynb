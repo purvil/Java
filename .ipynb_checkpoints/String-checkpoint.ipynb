{
 "cells": [
  {
   "cell_type": "markdown",
   "metadata": {},
   "source": [
    "* Every string is an object of type `String`. They are immutable. \n",
    "\n",
    "```\n",
    "String str = \"Hi\";\n",
    "\n",
    "String str1 = \"I \" + \"like \" + \"Dosa!!\";\n",
    "\n",
    "str.length() // Returns length of string\n",
    "\n",
    "str1.charAt(3) // Return character at index 3\n",
    "\n",
    "str.equals(str1) // return true or false, whether 2 strigs are equal?\n",
    "```"
   ]
  }
 ],
 "metadata": {
  "kernelspec": {
   "display_name": "Python 3",
   "language": "python",
   "name": "python3"
  },
  "language_info": {
   "codemirror_mode": {
    "name": "ipython",
    "version": 3
   },
   "file_extension": ".py",
   "mimetype": "text/x-python",
   "name": "python",
   "nbconvert_exporter": "python",
   "pygments_lexer": "ipython3",
   "version": "3.6.5"
  }
 },
 "nbformat": 4,
 "nbformat_minor": 2
}
